{
 "cells": [
  {
   "cell_type": "code",
   "execution_count": 467,
   "id": "useful-brook",
   "metadata": {},
   "outputs": [],
   "source": [
    "import numpy as np\n",
    "import pandas as pd\n",
    "import matplotlib.pyplot as plt\n",
    "from sklearn.model_selection import train_test_split\n",
    "from sklearn.ensemble import RandomForestClassifier\n",
    "from sklearn.linear_model import LogisticRegression\n",
    "from sklearn.neighbors import KNeighborsClassifier\n",
    "from sklearn.metrics import auc, accuracy_score, precision_score\n",
    "from sklearn.model_selection import GridSearchCV\n",
    "from sklearn.model_selection import KFold\n",
    "import seaborn as sns\n",
    "\n",
    "from scipy.stats import shapiro\n",
    "from scipy.stats import ttest_rel\n",
    "\n",
    "from itertools import combinations\n",
    "from tqdm import tqdm_notebook\n",
    "\n",
    "import warnings\n",
    "warnings.filterwarnings('ignore')"
   ]
  },
  {
   "cell_type": "code",
   "execution_count": 116,
   "id": "racial-thumb",
   "metadata": {},
   "outputs": [],
   "source": [
    "def mean_encode(x_train, x_test, y_train, y_test, column):\n",
    "    \n",
    "    \"\"\"Function for mean encoding of categorical features using K-Fold regularization scheme\"\"\"\n",
    "    \n",
    "    kf = KFold(n_splits=5, random_state=0)\n",
    "    \n",
    "    x_train['target'] = y_train\n",
    "    x_test['target'] = y_test\n",
    "    target = 'target'\n",
    "        \n",
    "    df_train = pd.DataFrame(index = x_train.index, columns = ['mean_enc_' + column])\n",
    "    df_test = pd.DataFrame(index = x_test.index, columns = ['mean_enc_' + column])\n",
    "    \n",
    "    for train_index, val_index in kf.split(x_train):\n",
    "        train = x_train.iloc[train_index]\n",
    "        val = x_train.iloc[val_index]\n",
    "            \n",
    "        df_train['mean_enc_' + column].iloc[val_index] = val[column].map(train.groupby(column)[target].mean()).values\n",
    "\n",
    "    global_mean = x_train[target].mean()\n",
    "    \n",
    "    df_test['mean_enc_' + column] = x_test[column].map(x_train.groupby(column)[target].mean())\n",
    "    \n",
    "    x_train.drop('target', axis=1, inplace=True)\n",
    "    x_test.drop('target', axis=1, inplace=True)    \n",
    "    \n",
    "    x_train['mean_enc_' + column] = df_train['mean_enc_' + column].fillna(global_mean).values\n",
    "    x_test['mean_enc_' + column] = df_test['mean_enc_' + column].fillna(global_mean).values\n",
    "    \n",
    "    return\n",
    "\n",
    "def freq_encode(train, test, column):\n",
    "    \n",
    "    \"\"\"Function for frequency encoding of categorical features\"\"\"\n",
    "       \n",
    "    train['freq_'+column] = train[column].map(train.groupby(column).size())/train.shape[0]\n",
    "    test['freq_'+column] = test[column].map(pd.concat([train, test], sort=False\n",
    "                                                     ).groupby(column).size())/(train.shape[0]+test.shape[0])\n",
    "    \n",
    "    return"
   ]
  },
  {
   "cell_type": "code",
   "execution_count": 150,
   "id": "resistant-concrete",
   "metadata": {},
   "outputs": [],
   "source": [
    "df = pd.read_csv('heart.csv')"
   ]
  },
  {
   "cell_type": "code",
   "execution_count": 151,
   "id": "constitutional-audit",
   "metadata": {},
   "outputs": [
    {
     "data": {
      "text/html": [
       "<div>\n",
       "<style scoped>\n",
       "    .dataframe tbody tr th:only-of-type {\n",
       "        vertical-align: middle;\n",
       "    }\n",
       "\n",
       "    .dataframe tbody tr th {\n",
       "        vertical-align: top;\n",
       "    }\n",
       "\n",
       "    .dataframe thead th {\n",
       "        text-align: right;\n",
       "    }\n",
       "</style>\n",
       "<table border=\"1\" class=\"dataframe\">\n",
       "  <thead>\n",
       "    <tr style=\"text-align: right;\">\n",
       "      <th></th>\n",
       "      <th>age</th>\n",
       "      <th>sex</th>\n",
       "      <th>cp</th>\n",
       "      <th>trestbps</th>\n",
       "      <th>chol</th>\n",
       "      <th>fbs</th>\n",
       "      <th>restecg</th>\n",
       "      <th>thalach</th>\n",
       "      <th>exang</th>\n",
       "      <th>oldpeak</th>\n",
       "      <th>slope</th>\n",
       "      <th>ca</th>\n",
       "      <th>thal</th>\n",
       "      <th>target</th>\n",
       "    </tr>\n",
       "  </thead>\n",
       "  <tbody>\n",
       "    <tr>\n",
       "      <th>0</th>\n",
       "      <td>63</td>\n",
       "      <td>1</td>\n",
       "      <td>3</td>\n",
       "      <td>145</td>\n",
       "      <td>233</td>\n",
       "      <td>1</td>\n",
       "      <td>0</td>\n",
       "      <td>150</td>\n",
       "      <td>0</td>\n",
       "      <td>2.3</td>\n",
       "      <td>0</td>\n",
       "      <td>0</td>\n",
       "      <td>1</td>\n",
       "      <td>1</td>\n",
       "    </tr>\n",
       "    <tr>\n",
       "      <th>1</th>\n",
       "      <td>37</td>\n",
       "      <td>1</td>\n",
       "      <td>2</td>\n",
       "      <td>130</td>\n",
       "      <td>250</td>\n",
       "      <td>0</td>\n",
       "      <td>1</td>\n",
       "      <td>187</td>\n",
       "      <td>0</td>\n",
       "      <td>3.5</td>\n",
       "      <td>0</td>\n",
       "      <td>0</td>\n",
       "      <td>2</td>\n",
       "      <td>1</td>\n",
       "    </tr>\n",
       "    <tr>\n",
       "      <th>2</th>\n",
       "      <td>41</td>\n",
       "      <td>0</td>\n",
       "      <td>1</td>\n",
       "      <td>130</td>\n",
       "      <td>204</td>\n",
       "      <td>0</td>\n",
       "      <td>0</td>\n",
       "      <td>172</td>\n",
       "      <td>0</td>\n",
       "      <td>1.4</td>\n",
       "      <td>2</td>\n",
       "      <td>0</td>\n",
       "      <td>2</td>\n",
       "      <td>1</td>\n",
       "    </tr>\n",
       "    <tr>\n",
       "      <th>3</th>\n",
       "      <td>56</td>\n",
       "      <td>1</td>\n",
       "      <td>1</td>\n",
       "      <td>120</td>\n",
       "      <td>236</td>\n",
       "      <td>0</td>\n",
       "      <td>1</td>\n",
       "      <td>178</td>\n",
       "      <td>0</td>\n",
       "      <td>0.8</td>\n",
       "      <td>2</td>\n",
       "      <td>0</td>\n",
       "      <td>2</td>\n",
       "      <td>1</td>\n",
       "    </tr>\n",
       "    <tr>\n",
       "      <th>4</th>\n",
       "      <td>57</td>\n",
       "      <td>0</td>\n",
       "      <td>0</td>\n",
       "      <td>120</td>\n",
       "      <td>354</td>\n",
       "      <td>0</td>\n",
       "      <td>1</td>\n",
       "      <td>163</td>\n",
       "      <td>1</td>\n",
       "      <td>0.6</td>\n",
       "      <td>2</td>\n",
       "      <td>0</td>\n",
       "      <td>2</td>\n",
       "      <td>1</td>\n",
       "    </tr>\n",
       "  </tbody>\n",
       "</table>\n",
       "</div>"
      ],
      "text/plain": [
       "   age  sex  cp  trestbps  chol  fbs  restecg  thalach  exang  oldpeak  slope  \\\n",
       "0   63    1   3       145   233    1        0      150      0      2.3      0   \n",
       "1   37    1   2       130   250    0        1      187      0      3.5      0   \n",
       "2   41    0   1       130   204    0        0      172      0      1.4      2   \n",
       "3   56    1   1       120   236    0        1      178      0      0.8      2   \n",
       "4   57    0   0       120   354    0        1      163      1      0.6      2   \n",
       "\n",
       "   ca  thal  target  \n",
       "0   0     1       1  \n",
       "1   0     2       1  \n",
       "2   0     2       1  \n",
       "3   0     2       1  \n",
       "4   0     2       1  "
      ]
     },
     "execution_count": 151,
     "metadata": {},
     "output_type": "execute_result"
    }
   ],
   "source": [
    "df.head()"
   ]
  },
  {
   "cell_type": "code",
   "execution_count": 45,
   "id": "computational-advancement",
   "metadata": {},
   "outputs": [
    {
     "data": {
      "text/plain": [
       "0    143\n",
       "2     87\n",
       "1     50\n",
       "3     23\n",
       "Name: cp, dtype: int64"
      ]
     },
     "execution_count": 45,
     "metadata": {},
     "output_type": "execute_result"
    }
   ],
   "source": [
    "df.cp.value_counts()"
   ]
  },
  {
   "cell_type": "code",
   "execution_count": 51,
   "id": "honest-being",
   "metadata": {},
   "outputs": [
    {
     "data": {
      "text/plain": [
       "1    152\n",
       "0    147\n",
       "2      4\n",
       "Name: restecg, dtype: int64"
      ]
     },
     "execution_count": 51,
     "metadata": {},
     "output_type": "execute_result"
    }
   ],
   "source": [
    "df.restecg.value_counts()"
   ]
  },
  {
   "cell_type": "code",
   "execution_count": 48,
   "id": "identified-prime",
   "metadata": {},
   "outputs": [
    {
     "data": {
      "text/plain": [
       "2    142\n",
       "1    140\n",
       "0     21\n",
       "Name: slope, dtype: int64"
      ]
     },
     "execution_count": 48,
     "metadata": {},
     "output_type": "execute_result"
    }
   ],
   "source": [
    "df.slope.value_counts()"
   ]
  },
  {
   "cell_type": "code",
   "execution_count": 49,
   "id": "iraqi-infrastructure",
   "metadata": {},
   "outputs": [
    {
     "data": {
      "text/plain": [
       "0    175\n",
       "1     65\n",
       "2     38\n",
       "3     20\n",
       "4      5\n",
       "Name: ca, dtype: int64"
      ]
     },
     "execution_count": 49,
     "metadata": {},
     "output_type": "execute_result"
    }
   ],
   "source": [
    "df.ca.value_counts()"
   ]
  },
  {
   "cell_type": "code",
   "execution_count": 50,
   "id": "touched-champion",
   "metadata": {},
   "outputs": [
    {
     "data": {
      "text/plain": [
       "2    166\n",
       "3    117\n",
       "1     18\n",
       "0      2\n",
       "Name: thal, dtype: int64"
      ]
     },
     "execution_count": 50,
     "metadata": {},
     "output_type": "execute_result"
    }
   ],
   "source": [
    "df.thal.value_counts()"
   ]
  },
  {
   "cell_type": "code",
   "execution_count": 26,
   "id": "southern-mentor",
   "metadata": {},
   "outputs": [
    {
     "data": {
      "text/plain": [
       "1    165\n",
       "0    138\n",
       "Name: target, dtype: int64"
      ]
     },
     "execution_count": 26,
     "metadata": {},
     "output_type": "execute_result"
    }
   ],
   "source": [
    "df.target.value_counts()"
   ]
  },
  {
   "cell_type": "code",
   "execution_count": 54,
   "id": "thousand-needle",
   "metadata": {},
   "outputs": [],
   "source": [
    "# Split features into numeric, binary and categorical\n",
    "\n",
    "numeric = ['age', 'trestbps', 'chol', 'thalach', 'oldpeak']\n",
    "binary = ['sex', 'fbs', 'exang']\n",
    "categorical = ['cp', 'restecg', 'slope', 'ca', 'thal']"
   ]
  },
  {
   "cell_type": "code",
   "execution_count": 58,
   "id": "realistic-shanghai",
   "metadata": {},
   "outputs": [],
   "source": [
    "assert len(numeric) + len(binary) + len(categorical) == df.shape[1] - 1"
   ]
  },
  {
   "cell_type": "code",
   "execution_count": 128,
   "id": "mental-baltimore",
   "metadata": {},
   "outputs": [
    {
     "data": {
      "image/png": "[encoded data removed]",
      "text/plain": [
       "<Figure size 864x864 with 2 Axes>"
      ]
     },
     "metadata": {},
     "output_type": "display_data"
    }
   ],
   "source": [
    "# Look at correlations of numeric features\n",
    "\n",
    "corrmat = df[numeric].corr()\n",
    "plt.figure(figsize=(12,12))\n",
    "cols = numeric\n",
    "cm = np.corrcoef(df[cols].values.T)\n",
    "sns.set(font_scale=1.25)\n",
    "hm = sns.heatmap(cm, cbar=True, annot=True, square=True, fmt='.2f', annot_kws={'size': 10}, yticklabels=cols, xticklabels=cols)\n",
    "plt.show()"
   ]
  },
  {
   "cell_type": "code",
   "execution_count": 152,
   "id": "meaning-replacement",
   "metadata": {},
   "outputs": [],
   "source": [
    "X = df.drop('target', axis=1)\n",
    "y = df.target\n",
    "x_train, x_test, y_train, y_test = train_test_split(X, y, test_size=0.1, random_state=1)"
   ]
  },
  {
   "cell_type": "markdown",
   "id": "increased-attempt",
   "metadata": {},
   "source": [
    "#### Baseline model"
   ]
  },
  {
   "cell_type": "code",
   "execution_count": 688,
   "id": "hazardous-residence",
   "metadata": {},
   "outputs": [
    {
     "name": "stdout",
     "output_type": "stream",
     "text": [
      "Mean accuracy score of baseline model: 0.8178847296494357\n"
     ]
    }
   ],
   "source": [
    "# Get accuracy scores from 9 folds in 9-fold CV scheme without splitting data into train / test\n",
    "# since dataset is small\n",
    "\n",
    "kf = KFold(n_splits=9, shuffle=True)\n",
    "baseline_acc = []\n",
    "\n",
    "for train_index, val_index in kf.split(X):\n",
    "    train = X.iloc[train_index]\n",
    "    y_train = y.iloc[train_index]\n",
    "    val = X.iloc[val_index]\n",
    "    y_val = y.iloc[val_index]\n",
    "    \n",
    "    rfc.fit(train, y_train)\n",
    "    y_preds = rfc.predict(val)\n",
    "    baseline_acc.append(accuracy_score(y_val, y_preds))\n",
    "    \n",
    "print(f'Mean accuracy score of baseline model: {sum(baseline_acc) / len(baseline_acc)}')"
   ]
  },
  {
   "cell_type": "code",
   "execution_count": 689,
   "id": "worst-advancement",
   "metadata": {},
   "outputs": [
    {
     "data": {
      "text/plain": [
       "ShapiroResult(statistic=0.8751119375228882, pvalue=0.13940657675266266)"
      ]
     },
     "execution_count": 689,
     "metadata": {},
     "output_type": "execute_result"
    }
   ],
   "source": [
    "# The Shapiro-Wilk test tests the null hypothesis that the data was drawn from a normal distribution.\n",
    "# This test is required to make sure response of 9-fold crocc-validation can be used to compare means\n",
    "# of other models responses using relative student test (scipy.ttest_rel)\n",
    "shapiro(baseline_acc)\n",
    "# p-value > 0.05 =>> cannot reject null-hypothesis => accept responses are drawn from normal distribution"
   ]
  },
  {
   "cell_type": "markdown",
   "id": "existing-somerset",
   "metadata": {},
   "source": [
    "#### Brute force original features selection"
   ]
  },
  {
   "cell_type": "code",
   "execution_count": 316,
   "id": "prospective-disorder",
   "metadata": {},
   "outputs": [
    {
     "data": {
      "application/vnd.jupyter.widget-view+json": {
       "model_id": "b218ad8b0e4043698e51cf293c3ef066",
       "version_major": 2,
       "version_minor": 0
      },
      "text/plain": [
       "  0%|          | 0/11 [00:00<?, ?it/s]"
      ]
     },
     "metadata": {},
     "output_type": "display_data"
    },
    {
     "data": {
      "application/vnd.jupyter.widget-view+json": {
       "model_id": "4e08ebebf9e2439cb70fa239f5f030a0",
       "version_major": 2,
       "version_minor": 0
      },
      "text/plain": [
       "0it [00:00, ?it/s]"
      ]
     },
     "metadata": {},
     "output_type": "display_data"
    },
    {
     "data": {
      "application/vnd.jupyter.widget-view+json": {
       "model_id": "a545bb30279e436bbfca923bdf1529a9",
       "version_major": 2,
       "version_minor": 0
      },
      "text/plain": [
       "0it [00:00, ?it/s]"
      ]
     },
     "metadata": {},
     "output_type": "display_data"
    },
    {
     "name": "stdout",
     "output_type": "stream",
     "text": [
      "mean_accuracy: 0.8381857793622499\n",
      "baseline_accuracy: 0.8183798772034065\n",
      "ttest: Ttest_relResult(statistic=0.8079950749618295, pvalue=0.4424545168655888)\n",
      "('cp', 'ca', 'thal')\n",
      "mean_accuracy: 0.8387799564270152\n",
      "baseline_accuracy: 0.8381857793622499\n",
      "ttest: Ttest_relResult(statistic=0.028095263976658267, pvalue=0.9782743932382283)\n",
      "('exang', 'ca', 'thal')\n"
     ]
    },
    {
     "data": {
      "application/vnd.jupyter.widget-view+json": {
       "model_id": "c745177b74754a11a928dfcad53efe95",
       "version_major": 2,
       "version_minor": 0
      },
      "text/plain": [
       "0it [00:00, ?it/s]"
      ]
     },
     "metadata": {},
     "output_type": "display_data"
    },
    {
     "data": {
      "application/vnd.jupyter.widget-view+json": {
       "model_id": "11cf501747454bf4bea326c4314b58a5",
       "version_major": 2,
       "version_minor": 0
      },
      "text/plain": [
       "0it [00:00, ?it/s]"
      ]
     },
     "metadata": {},
     "output_type": "display_data"
    },
    {
     "data": {
      "application/vnd.jupyter.widget-view+json": {
       "model_id": "8d97e006371349dd964fe15d318d9d82",
       "version_major": 2,
       "version_minor": 0
      },
      "text/plain": [
       "0it [00:00, ?it/s]"
      ]
     },
     "metadata": {},
     "output_type": "display_data"
    },
    {
     "name": "stdout",
     "output_type": "stream",
     "text": [
      "mean_accuracy: 0.8417508417508417\n",
      "baseline_accuracy: 0.8387799564270152\n",
      "ttest: Ttest_relResult(statistic=0.20657012916508952, pvalue=0.8415061329721587)\n",
      "('sex', 'trestbps', 'fbs', 'exang', 'ca', 'thal')\n",
      "mean_accuracy: 0.8546246781540899\n",
      "baseline_accuracy: 0.8417508417508417\n",
      "ttest: Ttest_relResult(statistic=0.6682479929888075, pvalue=0.5227841046145221)\n",
      "('cp', 'trestbps', 'restecg', 'slope', 'ca', 'thal')\n"
     ]
    },
    {
     "data": {
      "application/vnd.jupyter.widget-view+json": {
       "model_id": "85a1550801ea4522a31ba704cb217349",
       "version_major": 2,
       "version_minor": 0
      },
      "text/plain": [
       "0it [00:00, ?it/s]"
      ]
     },
     "metadata": {},
     "output_type": "display_data"
    },
    {
     "data": {
      "application/vnd.jupyter.widget-view+json": {
       "model_id": "b50efff8455b441a98efeda6fd9cd050",
       "version_major": 2,
       "version_minor": 0
      },
      "text/plain": [
       "0it [00:00, ?it/s]"
      ]
     },
     "metadata": {},
     "output_type": "display_data"
    },
    {
     "data": {
      "application/vnd.jupyter.widget-view+json": {
       "model_id": "27230fd7bac14611b9f87e6a3f669e72",
       "version_major": 2,
       "version_minor": 0
      },
      "text/plain": [
       "0it [00:00, ?it/s]"
      ]
     },
     "metadata": {},
     "output_type": "display_data"
    },
    {
     "data": {
      "application/vnd.jupyter.widget-view+json": {
       "model_id": "0c1715bf0b0c46df8b33b0305691a409",
       "version_major": 2,
       "version_minor": 0
      },
      "text/plain": [
       "0it [00:00, ?it/s]"
      ]
     },
     "metadata": {},
     "output_type": "display_data"
    },
    {
     "data": {
      "application/vnd.jupyter.widget-view+json": {
       "model_id": "d904ac714fc241048050a9217f12006c",
       "version_major": 2,
       "version_minor": 0
      },
      "text/plain": [
       "0it [00:00, ?it/s]"
      ]
     },
     "metadata": {},
     "output_type": "display_data"
    },
    {
     "data": {
      "application/vnd.jupyter.widget-view+json": {
       "model_id": "e5790bf328a04eaa860b8f586a1d31e8",
       "version_major": 2,
       "version_minor": 0
      },
      "text/plain": [
       "0it [00:00, ?it/s]"
      ]
     },
     "metadata": {},
     "output_type": "display_data"
    }
   ],
   "source": [
    "# Use 9-fold cross-validaton without train-test splitting since dataset is small\n",
    "\n",
    "for cols_number in tqdm_notebook(range(2, X.columns.values.shape[0])):\n",
    "    for cols_set in tqdm_notebook(combinations(X.columns.values, cols_number)):\n",
    "        \n",
    "        kf = KFold(n_splits=9, shuffle=True, random_state=0)\n",
    "        accuracies = []\n",
    "\n",
    "        for train_index, val_index in kf.split(X):\n",
    "            train = X[list(cols_set)].iloc[train_index]\n",
    "            y_train = y.iloc[train_index]\n",
    "            val = X[list(cols_set)].iloc[val_index]\n",
    "            y_val = y.iloc[val_index]\n",
    "\n",
    "            rfc.fit(train, y_train)\n",
    "            y_preds = rfc.predict(val)\n",
    "            accuracies.append(accuracy_score(y_val, y_preds))\n",
    "        \n",
    "        mean_accuracy = sum(accuracies) / len(accuracies)\n",
    "        mean_baseline_accuracy = sum(baseline_acc) / len(baseline_acc)\n",
    " \n",
    "        if mean_accuracy > mean_baseline_accuracy:\n",
    "            best_cols_set = list(cols_set)\n",
    "            print(f'mean_accuracy: {mean_accuracy}')\n",
    "            print(f'baseline_accuracy: {mean_baseline_accuracy}')\n",
    "            print(f'ttest: {ttest_rel(accuracies, baseline_acc)}')\n",
    "            print(cols_set)\n",
    "            baseline_acc = accuracies"
   ]
  },
  {
   "cell_type": "code",
   "execution_count": 328,
   "id": "living-clause",
   "metadata": {},
   "outputs": [
    {
     "data": {
      "text/plain": [
       "['cp', 'trestbps', 'restecg', 'slope', 'ca', 'thal']"
      ]
     },
     "execution_count": 328,
     "metadata": {},
     "output_type": "execute_result"
    }
   ],
   "source": [
    "# Selected columns set producing maximum accuracy score in 9-fold cross-validation scheme\n",
    "best_cols_set"
   ]
  },
  {
   "cell_type": "markdown",
   "id": "delayed-patrol",
   "metadata": {},
   "source": [
    "#### Test intercation of numeric features of type feature1 / feature2"
   ]
  },
  {
   "cell_type": "code",
   "execution_count": 329,
   "id": "utility-anaheim",
   "metadata": {},
   "outputs": [],
   "source": [
    "# Generating varios features of type \"numeric feature 1\" / \"numeric feature 2\"\n",
    "\n",
    "extra_numeric_feats = pd.DataFrame(index=X.index)\n",
    "paired_columns = []\n",
    "\n",
    "for pair in list(combinations(numeric, 2)):\n",
    "    col0 = pair[0]\n",
    "    col1 = pair[1]\n",
    "    if pair[1] == 'oldpeak':\n",
    "        col0, col1 = col1, col0\n",
    "    new_column_name = col0 + '_' + col1\n",
    "    paired_columns.append(new_column_name)\n",
    "    extra_numeric_feats[new_column_name] = X[col0] / X[col1]\n",
    "    \n",
    "    col0, col1 = col1, col0\n",
    "    if col1 == 'oldpeak':\n",
    "        continue\n",
    "        \n",
    "    new_column_name = col0 + '_' + col1\n",
    "    paired_columns.append(new_column_name)\n",
    "    extra_numeric_feats[new_column_name] = X[col0] / X[col1]"
   ]
  },
  {
   "cell_type": "code",
   "execution_count": 332,
   "id": "interpreted-governor",
   "metadata": {},
   "outputs": [],
   "source": [
    "# test features of type \"numeric feature 1\" / \"numeric feature 2\"\n",
    "\n",
    "selected_cols = []\n",
    "X_train = X[best_cols_set].copy()\n",
    "\n",
    "for col in tqdm_notebook(extra_numeric_feats.columns):\n",
    "    \n",
    "    X_expanded = X_train.join(extra_numeric_feats[col])\n",
    "    kf = KFold(n_splits=9, shuffle=True)\n",
    "    accuracies = []\n",
    "\n",
    "    for train_index, val_index in kf.split(X):\n",
    "        train = X_expanded.iloc[train_index].copy()\n",
    "        y_train = y.iloc[train_index]\n",
    "        val = X_expanded.iloc[val_index].copy()\n",
    "        y_val = y.iloc[val_index]\n",
    "        \n",
    "        rfc.fit(train, y_train)\n",
    "        y_preds = rfc.predict(val)\n",
    "        accuracies.append(accuracy_score(y_val, y_preds))\n",
    "        \n",
    "    mean_accuracy = sum(accuracies) / len(accuracies)\n",
    "    mean_baseline = sum(baseline_acc) / len(baseline_acc)\n",
    "        \n",
    "    #print(f'mean accuracy difference: {mean_accuracy - mean_baseline}, ttest: {ttest_rel(accuracies, baseline_acc)}')\n",
    "    \n",
    "    if (mean_accuracy > mean_baseline):\n",
    "        selected_cols.append(col)\n",
    "        print(f'column {col} has been added producing gain of {mean_accuracy - baseline_acc}')\n",
    "        baseline_acc = mean_accuracy\n",
    "        X_train = X_train.join(extra_numeric_feats[col])"
   ]
  },
  {
   "cell_type": "markdown",
   "id": "sufficient-profile",
   "metadata": {},
   "source": [
    "#### Test feature interactions"
   ]
  },
  {
   "cell_type": "code",
   "execution_count": 333,
   "id": "looking-ecology",
   "metadata": {},
   "outputs": [],
   "source": [
    "# Generate feature interactions between categorical, binary and 'age' features:\n",
    "\n",
    "age_categorical_binary = ['age'] + categorical + binary\n",
    "\n",
    "feature_interactions_df = pd.DataFrame(index=X.index)\n",
    "combined_columns = []\n",
    "\n",
    "for pair in list(combinations(age_categorical_binary, 2)):\n",
    "    new_column_name = pair[0] + '_' + pair[1]\n",
    "    combined_columns.append(new_column_name)\n",
    "    feature_interactions_df[new_column_name] = X[pair[0]].apply(lambda t: 'A' + str(int(t))) + \\\n",
    "                                               X[pair[1]].apply(lambda t: '_B' + str(int(t)))"
   ]
  },
  {
   "cell_type": "code",
   "execution_count": 387,
   "id": "challenging-release",
   "metadata": {},
   "outputs": [
    {
     "data": {
      "application/vnd.jupyter.widget-view+json": {
       "model_id": "6a6a17f5f3d04eccaff72f7e52ad75ce",
       "version_major": 2,
       "version_minor": 0
      },
      "text/plain": [
       "  0%|          | 0/36 [00:00<?, ?it/s]"
      ]
     },
     "metadata": {},
     "output_type": "display_data"
    }
   ],
   "source": [
    "# test feature interactions\n",
    "\n",
    "selected_cols = []\n",
    "X_train = X[best_cols_set].copy()\n",
    "estimator = rfc\n",
    "\n",
    "for col in tqdm_notebook(feature_interactions_df.columns):\n",
    "    \n",
    "    X_expanded = X_train.join(pd.get_dummies(feature_interactions_df.loc[:, col]))\n",
    "    kf = KFold(n_splits=9, shuffle=True)\n",
    "    accuracies = []\n",
    "\n",
    "    for train_index, val_index in kf.split(X):\n",
    "        train = X_expanded.iloc[train_index].copy()\n",
    "        y_train = y.iloc[train_index]\n",
    "        val = X_expanded.iloc[val_index].copy()\n",
    "        y_val = y.iloc[val_index]\n",
    "        \n",
    "        estimator.fit(train, y_train)\n",
    "        y_preds = estimator.predict(val)\n",
    "        accuracies.append(accuracy_score(y_val, y_preds))\n",
    "        \n",
    "    mean_accuracy = sum(accuracies) / len(accuracies)\n",
    "    mean_baseline = sum(baseline_acc) / len(baseline_acc)\n",
    "        \n",
    "    #print(f'mean accuracy difference: {mean_accuracy - mean_baseline}, ttest: {ttest_rel(accuracies, baseline_acc)}')\n",
    "    \n",
    "    if (mean_accuracy > mean_baseline):\n",
    "        selected_cols.append(col)\n",
    "        print(f'column {col} has been added producing gain of {mean_accuracy - baseline_acc}')\n",
    "        baseline_acc = mean_accuracy\n",
    "        X_train = X_train.join(pd.get_dummies(feature_interactions_df.loc[:, col]))"
   ]
  },
  {
   "cell_type": "markdown",
   "id": "arabic-efficiency",
   "metadata": {},
   "source": [
    "#### Test frequency encoded features"
   ]
  },
  {
   "cell_type": "code",
   "execution_count": 344,
   "id": "relative-charger",
   "metadata": {},
   "outputs": [
    {
     "data": {
      "application/vnd.jupyter.widget-view+json": {
       "model_id": "f0b466355f444ec99cd1daadeb912824",
       "version_major": 2,
       "version_minor": 0
      },
      "text/plain": [
       "  0%|          | 0/8 [00:00<?, ?it/s]"
      ]
     },
     "metadata": {},
     "output_type": "display_data"
    }
   ],
   "source": [
    "# test frequency encoding\n",
    "\n",
    "selected_cols = []\n",
    "new_columns = set(categorical + binary).difference(set(best_cols_set))\n",
    "X_train = X[best_cols_set].copy()\n",
    "\n",
    "for col in tqdm_notebook(binary + categorical):\n",
    "    \n",
    "    if col in new_columns:\n",
    "        X_train = X_train.join(X[col])\n",
    "        \n",
    "    kf = KFold(n_splits=9, shuffle=True)\n",
    "    accuracies = []\n",
    "\n",
    "    for train_index, val_index in kf.split(X):\n",
    "        train = X_train.iloc[train_index]\n",
    "        y_train = y.iloc[train_index]\n",
    "        val = X_train.iloc[val_index].copy()\n",
    "        y_val = y.iloc[val_index]\n",
    "        \n",
    "        freq_encode(train, val, col)\n",
    "        \n",
    "        if col in new_columns:\n",
    "            train.drop(col, axis=1, inplace=True)\n",
    "            val.drop(col, axis=1, inplace=True)\n",
    "\n",
    "        rfc.fit(train, y_train)\n",
    "        y_preds = rfc.predict(val)\n",
    "        accuracies.append(accuracy_score(y_val, y_preds))\n",
    "        \n",
    "    mean_accuracy = sum(accuracies) / len(accuracies)\n",
    "    mean_baseline = sum(baseline_acc) / len(baseline_acc)\n",
    "        \n",
    "    #print(f'mean accuracy difference: {mean_accuracy - mean_baseline}, ttest: {ttest_rel(accuracies, baseline_acc)}')\n",
    "    \n",
    "    if (mean_accuracy > mean_baseline):\n",
    "        selected_cols.append(col)\n",
    "        print(f'column {col} has been added producing gain of {mean_accuracy - baseline_acc}')\n",
    "        baseline_acc = mean_accuracy\n",
    "        X_train = X_train.join(pd.get_dummies(feature_interactions_df.loc[:, col]))"
   ]
  },
  {
   "cell_type": "code",
   "execution_count": null,
   "id": "hourly-lincoln",
   "metadata": {},
   "outputs": [],
   "source": [
    "# Conclusion: frequency encoded features produce no gain in accuracy score"
   ]
  },
  {
   "cell_type": "markdown",
   "id": "educated-participant",
   "metadata": {},
   "source": [
    "#### Test mean encoded and groupby features"
   ]
  },
  {
   "cell_type": "code",
   "execution_count": 388,
   "id": "expanded-fundamental",
   "metadata": {},
   "outputs": [
    {
     "data": {
      "application/vnd.jupyter.widget-view+json": {
       "model_id": "d2b33f075ce94d81ac29c8d1368371f0",
       "version_major": 2,
       "version_minor": 0
      },
      "text/plain": [
       "  0%|          | 0/8 [00:00<?, ?it/s]"
      ]
     },
     "metadata": {},
     "output_type": "display_data"
    }
   ],
   "source": [
    "# test mean encoding\n",
    "\n",
    "selected_cols = []\n",
    "new_columns = set(categorical + binary).difference(set(best_cols_set))\n",
    "X_train = X[best_cols_set].copy()\n",
    "estimator = rfc\n",
    "\n",
    "for col in tqdm_notebook(binary + categorical):\n",
    "    \n",
    "    if col in new_columns:\n",
    "        X_train = X_train.join(X[col])\n",
    "        \n",
    "    kf = KFold(n_splits=9, shuffle=True)\n",
    "    accuracies = []\n",
    "\n",
    "    for train_index, val_index in kf.split(X):\n",
    "        train = X_train.iloc[train_index]\n",
    "        y_train = y.iloc[train_index]\n",
    "        val = X_train.iloc[val_index].copy()\n",
    "        y_val = y.iloc[val_index]\n",
    "        \n",
    "        mean_encode(train, val, y_train, y_val, col)\n",
    "        \n",
    "        if col in new_columns:\n",
    "            train.drop(col, axis=1, inplace=True)\n",
    "            val.drop(col, axis=1, inplace=True)\n",
    "\n",
    "        estimator.fit(train, y_train)\n",
    "        y_preds = estimator.predict(val)\n",
    "        accuracies.append(accuracy_score(y_val, y_preds))\n",
    "        \n",
    "    mean_accuracy = sum(accuracies) / len(accuracies)\n",
    "    mean_baseline = sum(baseline_acc) / len(baseline_acc)\n",
    "        \n",
    "    #print(f'mean accuracy difference: {mean_accuracy - mean_baseline}, ttest: {ttest_rel(accuracies, baseline_acc)}')\n",
    "    \n",
    "    if (mean_accuracy > mean_baseline):\n",
    "        selected_cols.append(col)\n",
    "        print(f'column {col} has been added producing gain of {mean_accuracy - baseline_acc}')\n",
    "        baseline_acc = mean_accuracy\n",
    "        X_train = X_train.join(pd.get_dummies(feature_interactions_df.loc[:, col]))"
   ]
  },
  {
   "cell_type": "code",
   "execution_count": null,
   "id": "norman-triumph",
   "metadata": {},
   "outputs": [],
   "source": [
    "# Conclusion: mean encoded features produce no gain in accuracy score"
   ]
  },
  {
   "cell_type": "code",
   "execution_count": 474,
   "id": "phantom-difficulty",
   "metadata": {},
   "outputs": [
    {
     "data": {
      "text/plain": [
       "['cp', 'trestbps', 'restecg', 'slope', 'ca', 'thal']"
      ]
     },
     "execution_count": 474,
     "metadata": {},
     "output_type": "execute_result"
    }
   ],
   "source": [
    "best_cols_set"
   ]
  },
  {
   "cell_type": "code",
   "execution_count": 536,
   "id": "great-fusion",
   "metadata": {},
   "outputs": [
    {
     "name": "stdout",
     "output_type": "stream",
     "text": [
      "0.8216478510596158\n"
     ]
    }
   ],
   "source": [
    "# testing various groupby features (mean, min, max, std)\n",
    "selected_cols = []\n",
    "new_columns = set(categorical + binary).difference(set(best_cols_set))\n",
    "analyzed = 'oldpeak'\n",
    "if analyzed != 'trestbps':\n",
    "    selected_cols = best_cols_set + [analyzed]\n",
    "else:\n",
    "    selected_cols = best_cols_set.copy()\n",
    "X_train = X[selected_cols].copy()\n",
    "estimator = rfc\n",
    "\n",
    "#for col in tqdm_notebook(['cp', 'restecg', 'slope', 'ca']):\n",
    "    \n",
    "col = 'ca'\n",
    "    \n",
    "if col in new_columns:\n",
    "    X_train = X_train.join(X[col])\n",
    "\n",
    "kf = KFold(n_splits=9, shuffle=True)\n",
    "accuracies = []\n",
    "\n",
    "for train_index, val_index in kf.split(X):\n",
    "    train = X_train.iloc[train_index]\n",
    "    y_train = y.iloc[train_index]\n",
    "    val = X_train.iloc[val_index].copy()\n",
    "    y_val = y.iloc[val_index]\n",
    "\n",
    "    col_map = train.groupby(col)[analyzed].std()\n",
    "    train['groupby_' + col] = train[col].map(col_map)\n",
    "    val['groupby_' + col] = val[col].map(col_map)\n",
    "    \n",
    "    col_map = train.groupby(col)[analyzed].min()\n",
    "    train['groupby_' + col] = train[col].map(col_map)\n",
    "    val['groupby_' + col] = val[col].map(col_map)\n",
    "    \n",
    "    col_map = train.groupby(col)[analyzed].mean()\n",
    "    train['groupby_' + col] = train[col].map(col_map)\n",
    "    val['groupby_' + col] = val[col].map(col_map)\n",
    "\n",
    "    estimator.fit(train, y_train)\n",
    "    y_preds = estimator.predict(val)\n",
    "    accuracies.append(accuracy_score(y_val, y_preds))\n",
    "\n",
    "mean_accuracy = sum(accuracies) / len(accuracies)\n",
    "print(mean_accuracy)"
   ]
  },
  {
   "cell_type": "code",
   "execution_count": null,
   "id": "rental-diary",
   "metadata": {},
   "outputs": [],
   "source": [
    "# Groupby features produce no meaningful gain in accuracy scores"
   ]
  },
  {
   "cell_type": "markdown",
   "id": "opponent-playing",
   "metadata": {},
   "source": [
    "#### Grid search"
   ]
  },
  {
   "cell_type": "code",
   "execution_count": 411,
   "id": "documentary-legislation",
   "metadata": {},
   "outputs": [
    {
     "data": {
      "text/plain": [
       "GridSearchCV(cv=KFold(n_splits=9, random_state=1, shuffle=True),\n",
       "             error_score=nan,\n",
       "             estimator=RandomForestClassifier(bootstrap=True, ccp_alpha=0.0,\n",
       "                                              class_weight=None,\n",
       "                                              criterion='gini', max_depth=None,\n",
       "                                              max_features='auto',\n",
       "                                              max_leaf_nodes=None,\n",
       "                                              max_samples=None,\n",
       "                                              min_impurity_decrease=0.0,\n",
       "                                              min_impurity_split=None,\n",
       "                                              min_samples_leaf=1,\n",
       "                                              min_samples_split=2,\n",
       "                                              min_weight_fraction_leaf=0.0,\n",
       "                                              n_estimators=100, n_jobs=None,\n",
       "                                              oob_score=False,\n",
       "                                              random_state=None, verbose=0,\n",
       "                                              warm_start=False),\n",
       "             iid='deprecated', n_jobs=None,\n",
       "             param_grid={'criterion': ['gini', 'entropy'],\n",
       "                         'n_estimators': [10, 20, 30, 40, 50, 60, 70, 80, 90,\n",
       "                                          100]},\n",
       "             pre_dispatch='2*n_jobs', refit=True, return_train_score=False,\n",
       "             scoring='accuracy', verbose=0)"
      ]
     },
     "execution_count": 411,
     "metadata": {},
     "output_type": "execute_result"
    }
   ],
   "source": [
    "params = {'n_estimators': [10, 20, 30, 40, 50, 60, 70, 80, 90, 100], 'criterion': ['gini', 'entropy']}\n",
    "kf = KFold(n_splits=9, shuffle=True, random_state=1)\n",
    "grid_search = GridSearchCV(rfc, params, cv=kf, scoring='accuracy')\n",
    "grid_search.fit(X[best_cols_set], y)"
   ]
  },
  {
   "cell_type": "code",
   "execution_count": 412,
   "id": "stretch-barrel",
   "metadata": {
    "scrolled": true
   },
   "outputs": [
    {
     "data": {
      "text/plain": [
       "RandomForestClassifier(bootstrap=True, ccp_alpha=0.0, class_weight=None,\n",
       "                       criterion='gini', max_depth=None, max_features='auto',\n",
       "                       max_leaf_nodes=None, max_samples=None,\n",
       "                       min_impurity_decrease=0.0, min_impurity_split=None,\n",
       "                       min_samples_leaf=1, min_samples_split=2,\n",
       "                       min_weight_fraction_leaf=0.0, n_estimators=30,\n",
       "                       n_jobs=None, oob_score=False, random_state=None,\n",
       "                       verbose=0, warm_start=False)"
      ]
     },
     "execution_count": 412,
     "metadata": {},
     "output_type": "execute_result"
    }
   ],
   "source": [
    "grid_search.best_estimator_"
   ]
  },
  {
   "cell_type": "code",
   "execution_count": 413,
   "id": "suffering-twenty",
   "metadata": {},
   "outputs": [
    {
     "data": {
      "text/plain": [
       "0.835412953060012"
      ]
     },
     "execution_count": 413,
     "metadata": {},
     "output_type": "execute_result"
    }
   ],
   "source": [
    "grid_search.best_score_"
   ]
  },
  {
   "cell_type": "markdown",
   "id": "pregnant-power",
   "metadata": {},
   "source": [
    "#### Stacking scheme"
   ]
  },
  {
   "cell_type": "code",
   "execution_count": 431,
   "id": "moved-civilian",
   "metadata": {},
   "outputs": [],
   "source": [
    "from sklearn.ensemble import GradientBoostingClassifier\n",
    "from sklearn.naive_bayes import GaussianNB"
   ]
  },
  {
   "cell_type": "code",
   "execution_count": 465,
   "id": "tested-messaging",
   "metadata": {},
   "outputs": [],
   "source": [
    "gbc = GradientBoostingClassifier(n_estimators=10, learning_rate=0.05)\n",
    "knn = KNeighborsClassifier(n_neighbors=6)\n",
    "gau = GaussianNB()"
   ]
  },
  {
   "cell_type": "code",
   "execution_count": 647,
   "id": "basic-oakland",
   "metadata": {},
   "outputs": [],
   "source": [
    "kf = KFold(n_splits=9, shuffle=True, random_state=0)\n",
    "accuracies = []\n",
    "response = pd.DataFrame(index=X.index, columns=['knn', 'rfc', 'log_reg', 'gbc', 'gau'])\n",
    "\n",
    "for train_index, val_index in kf.split(X):\n",
    "    train = X[best_cols_set].iloc[train_index]\n",
    "    y_train = y.iloc[train_index]\n",
    "    val = X[best_cols_set].iloc[val_index]\n",
    "    y_val = y.iloc[val_index]\n",
    "    \n",
    "    knn.fit(train, y_train)\n",
    "    y_preds = knn.predict_proba(val)[:, 1]\n",
    "    response['knn'].iloc[val_index] = y_preds\n",
    "    \n",
    "    rfc.fit(train, y_train)\n",
    "    y_preds = rfc.predict_proba(val)[:, 1]\n",
    "    response['rfc'].iloc[val_index] = y_preds\n",
    "    \n",
    "    log_reg.fit(train, y_train)\n",
    "    y_preds = log_reg.predict_proba(val)[:, 1]\n",
    "    response['log_reg'].iloc[val_index] = y_preds\n",
    "    \n",
    "    gbc.fit(train, y_train)\n",
    "    y_preds = gbc.predict_proba(val)[:, 1]\n",
    "    response['gbc'].iloc[val_index] = y_preds\n",
    "    \n",
    "    gau.fit(train, y_train)\n",
    "    y_preds = gau.predict_proba(val)[:, 1]\n",
    "    response['gau'].iloc[val_index] = y_preds"
   ]
  },
  {
   "cell_type": "code",
   "execution_count": 686,
   "id": "educational-regular",
   "metadata": {},
   "outputs": [],
   "source": [
    "kf = KFold(n_splits=9, shuffle=True)\n",
    "columns = ['log_reg', 'gau', 'rfc']\n",
    "\n",
    "global_accuracies = []\n",
    "\n",
    "for k in range(100):\n",
    "\n",
    "    accuracies = []\n",
    "\n",
    "    for train_index, val_index in kf.split(X):\n",
    "        train = response[columns].iloc[train_index]\n",
    "        y_train = y.iloc[train_index]\n",
    "        val = response[columns].iloc[val_index]\n",
    "        y_val = y.iloc[val_index]\n",
    "\n",
    "        log_reg.fit(train, y_train)\n",
    "        y_preds = log_reg.predict(val)\n",
    "        accuracies.append(accuracy_score(y_val, y_preds))\n",
    "\n",
    "    mean_accuracy = sum(accuracies) / len(accuracies) \n",
    "    \n",
    "    global_accuracies.append(mean_accuracy)\n",
    "\n",
    "mean_accuracy = sum(global_accuracies) / len(global_accuracies) "
   ]
  },
  {
   "cell_type": "code",
   "execution_count": 687,
   "id": "conscious-absorption",
   "metadata": {},
   "outputs": [
    {
     "data": {
      "text/plain": [
       "0.8541661715191131"
      ]
     },
     "execution_count": 687,
     "metadata": {},
     "output_type": "execute_result"
    }
   ],
   "source": [
    "mean_accuracy"
   ]
  },
  {
   "cell_type": "code",
   "execution_count": 724,
   "id": "adverse-congress",
   "metadata": {},
   "outputs": [
    {
     "data": {
      "text/plain": [
       "GridSearchCV(cv=KFold(n_splits=9, random_state=1, shuffle=True),\n",
       "             error_score=nan,\n",
       "             estimator=LogisticRegression(C=1.0, class_weight=None, dual=False,\n",
       "                                          fit_intercept=True,\n",
       "                                          intercept_scaling=1, l1_ratio=None,\n",
       "                                          max_iter=100, multi_class='auto',\n",
       "                                          n_jobs=None, penalty='l2',\n",
       "                                          random_state=None, solver='lbfgs',\n",
       "                                          tol=0.0001, verbose=0,\n",
       "                                          warm_start=False),\n",
       "             iid='deprecated', n_jobs=None,\n",
       "             param_grid={'C': [0.01, 0.1, 1.0, 10, 100],\n",
       "                         'max_iter': [100, 500, 1000],\n",
       "                         'solver': ['newton-cg', 'lbfgs', 'liblinear', 'sag',\n",
       "                                    'saga']},\n",
       "             pre_dispatch='2*n_jobs', refit=True, return_train_score=False,\n",
       "             scoring='accuracy', verbose=0)"
      ]
     },
     "execution_count": 724,
     "metadata": {},
     "output_type": "execute_result"
    }
   ],
   "source": [
    "# Choose best parameters for logistic regression estimator by GridSearch in 9-fold cross-validation scheme:\n",
    "\n",
    "params = {'solver': ['newton-cg', 'lbfgs', 'liblinear', 'sag', 'saga'], \n",
    "          'max_iter': [100, 500, 1000],\n",
    "          'C': [0.01, 0.1, 1., 10, 100]}\n",
    "kf = KFold(n_splits=9, shuffle=True, random_state=1)\n",
    "grid_search = GridSearchCV(log_reg, params, cv=kf, scoring='accuracy')\n",
    "grid_search.fit(response[['log_reg', 'gau', 'rfc']], y)"
   ]
  },
  {
   "cell_type": "code",
   "execution_count": 725,
   "id": "above-orchestra",
   "metadata": {},
   "outputs": [
    {
     "data": {
      "text/plain": [
       "0.8583877995642701"
      ]
     },
     "execution_count": 725,
     "metadata": {},
     "output_type": "execute_result"
    }
   ],
   "source": [
    "grid_search.best_score_"
   ]
  },
  {
   "cell_type": "code",
   "execution_count": 726,
   "id": "fallen-theater",
   "metadata": {},
   "outputs": [
    {
     "data": {
      "text/plain": [
       "LogisticRegression(C=1.0, class_weight=None, dual=False, fit_intercept=True,\n",
       "                   intercept_scaling=1, l1_ratio=None, max_iter=100,\n",
       "                   multi_class='auto', n_jobs=None, penalty='l2',\n",
       "                   random_state=None, solver='newton-cg', tol=0.0001, verbose=0,\n",
       "                   warm_start=False)"
      ]
     },
     "execution_count": 726,
     "metadata": {},
     "output_type": "execute_result"
    }
   ],
   "source": [
    "grid_search.best_estimator_"
   ]
  },
  {
   "cell_type": "code",
   "execution_count": 731,
   "id": "excessive-fancy",
   "metadata": {},
   "outputs": [],
   "source": [
    "log_reg = LogisticRegression(solver='newton-cg')\n",
    "\n",
    "kf = KFold(n_splits=9, shuffle=True)\n",
    "columns = ['log_reg', 'gau', 'rfc']\n",
    "\n",
    "accuracies = []\n",
    "\n",
    "for train_index, val_index in kf.split(X):\n",
    "    train = response[columns].iloc[train_index]\n",
    "    y_train = y.iloc[train_index]\n",
    "    val = response[columns].iloc[val_index]\n",
    "    y_val = y.iloc[val_index]\n",
    "\n",
    "    log_reg.fit(train, y_train)\n",
    "    y_preds = log_reg.predict(val)\n",
    "    accuracies.append(accuracy_score(y_val, y_preds))\n",
    "\n",
    "mean_accuracy = sum(accuracies) / len(accuracies)"
   ]
  },
  {
   "cell_type": "code",
   "execution_count": 732,
   "id": "hungry-papua",
   "metadata": {},
   "outputs": [
    {
     "data": {
      "text/plain": [
       "0.8544266191325014"
      ]
     },
     "execution_count": 732,
     "metadata": {},
     "output_type": "execute_result"
    }
   ],
   "source": [
    "mean_accuracy"
   ]
  },
  {
   "cell_type": "code",
   "execution_count": 736,
   "id": "absent-heating",
   "metadata": {},
   "outputs": [
    {
     "data": {
      "text/plain": [
       "Ttest_relResult(statistic=1.5487020574341104, pvalue=0.16004520922182972)"
      ]
     },
     "execution_count": 736,
     "metadata": {},
     "output_type": "execute_result"
    }
   ],
   "source": [
    "# Stacking model produced 0.854 mean accuracy score comparing to 0.818 mean accuary score of a baseline model\n",
    "# although Student's two-sided relative t-test shows that null-hypothesis stating means of 2 samples are identical\n",
    "# can not be rejected:\n",
    "ttest_rel(accuracies, baseline_acc)"
   ]
  },
  {
   "cell_type": "markdown",
   "id": "right-appreciation",
   "metadata": {},
   "source": [
    "#### Final model"
   ]
  },
  {
   "cell_type": "code",
   "execution_count": 737,
   "id": "preliminary-threat",
   "metadata": {},
   "outputs": [
    {
     "data": {
      "text/plain": [
       "LogisticRegression(C=1.0, class_weight=None, dual=False, fit_intercept=True,\n",
       "                   intercept_scaling=1, l1_ratio=None, max_iter=100,\n",
       "                   multi_class='auto', n_jobs=None, penalty='l2',\n",
       "                   random_state=None, solver='newton-cg', tol=0.0001, verbose=0,\n",
       "                   warm_start=False)"
      ]
     },
     "execution_count": 737,
     "metadata": {},
     "output_type": "execute_result"
    }
   ],
   "source": [
    "log_reg = LogisticRegression(solver='newton-cg')\n",
    "log_reg.fit(response[['log_reg', 'gau', 'rfc']], y)"
   ]
  },
  {
   "cell_type": "code",
   "execution_count": 738,
   "id": "deluxe-aging",
   "metadata": {},
   "outputs": [],
   "source": [
    "import pickle"
   ]
  },
  {
   "cell_type": "code",
   "execution_count": 739,
   "id": "national-singapore",
   "metadata": {},
   "outputs": [],
   "source": [
    "with open('model.pickle', 'wb') as f:\n",
    "    pickle.dump(log_reg, f)"
   ]
  }
 ],
 "metadata": {
  "kernelspec": {
   "display_name": "Python 3",
   "language": "python",
   "name": "python3"
  },
  "language_info": {
   "codemirror_mode": {
    "name": "ipython",
    "version": 3
   },
   "file_extension": ".py",
   "mimetype": "text/x-python",
   "name": "python",
   "nbconvert_exporter": "python",
   "pygments_lexer": "ipython3",
   "version": "3.6.5"
  }
 },
 "nbformat": 4,
 "nbformat_minor": 5
}
